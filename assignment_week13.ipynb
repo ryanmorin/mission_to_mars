{
 "cells": [
  {
   "cell_type": "code",
   "execution_count": 10,
   "id": "df14240a",
   "metadata": {},
   "outputs": [],
   "source": [
    "import urllib.request\n",
    "from bs4 import BeautifulSoup"
   ]
  },
  {
   "cell_type": "code",
   "execution_count": 11,
   "id": "0ab722ca",
   "metadata": {},
   "outputs": [
    {
     "name": "stdout",
     "output_type": "stream",
     "text": [
      "['/search/map/Mars/Viking/cerberus_enhanced', '/search/map/Mars/Viking/schiaparelli_enhanced', '/search/map/Mars/Viking/syrtis_major_enhanced', '/search/map/Mars/Viking/valles_marineris_enhanced']\n"
     ]
    }
   ],
   "source": [
    "theurl = \"https://astrogeology.usgs.gov/search/results?q=hemisphere+enhanced&k1=target&v1=Mars\"\n",
    "thepage = urllib.request.urlopen(theurl)\n",
    "\n",
    "soup = BeautifulSoup(thepage)\n",
    "\n",
    "all_imgs = soup.find('div', id='product-section')\n",
    "\n",
    "hem_href_list = [i['href'] for i in all_imgs.find_all('a', href=True)]\n",
    "print(hem_href_list)"
   ]
  },
  {
   "cell_type": "code",
   "execution_count": 12,
   "id": "9adb87f6",
   "metadata": {},
   "outputs": [
    {
     "data": {
      "text/plain": [
       "['Cerberus Hemisphere Enhanced',\n",
       " 'Schiaparelli Hemisphere Enhanced',\n",
       " 'Syrtis Major Hemisphere Enhanced',\n",
       " 'Valles Marineris Hemisphere Enhanced']"
      ]
     },
     "execution_count": 12,
     "metadata": {},
     "output_type": "execute_result"
    }
   ],
   "source": [
    "hem_names = [h.text.strip() for h in all_imgs.find_all('h3')]\n",
    "hem_names"
   ]
  },
  {
   "cell_type": "code",
   "execution_count": 13,
   "id": "d0136ccd",
   "metadata": {},
   "outputs": [],
   "source": [
    "base_url = 'https://astrogeology.usgs.gov'\n",
    "hem_jpegs = []\n",
    "\n",
    "def hem_list():\n",
    "    for href in hem_href_list:\n",
    "        url = f'https://astrogeology.usgs.gov{href}'\n",
    "        thepage = urllib.request.urlopen(url)\n",
    "        soup = BeautifulSoup(thepage)\n",
    "        jpeg_link = (soup.find('li')).find('a').attrs['href']\n",
    "        hem_jpegs.append(jpeg_link)\n",
    "    return(hem_jpegs)\n",
    "\n",
    "#li = [j for j in soup.find('li')]"
   ]
  },
  {
   "cell_type": "code",
   "execution_count": 14,
   "id": "4f7ae1f0",
   "metadata": {},
   "outputs": [],
   "source": [
    "hem_jpegs = hem_list()"
   ]
  },
  {
   "cell_type": "code",
   "execution_count": 15,
   "id": "6dbdfd51",
   "metadata": {},
   "outputs": [
    {
     "data": {
      "text/plain": [
       "['https://astropedia.astrogeology.usgs.gov/download/Mars/Viking/cerberus_enhanced.tif/full.jpg',\n",
       " 'https://astropedia.astrogeology.usgs.gov/download/Mars/Viking/schiaparelli_enhanced.tif/full.jpg',\n",
       " 'https://astropedia.astrogeology.usgs.gov/download/Mars/Viking/syrtis_major_enhanced.tif/full.jpg',\n",
       " 'https://astropedia.astrogeology.usgs.gov/download/Mars/Viking/valles_marineris_enhanced.tif/full.jpg']"
      ]
     },
     "execution_count": 15,
     "metadata": {},
     "output_type": "execute_result"
    }
   ],
   "source": [
    "hem_jpegs"
   ]
  },
  {
   "cell_type": "code",
   "execution_count": 17,
   "id": "a8e26572",
   "metadata": {},
   "outputs": [
    {
     "data": {
      "text/plain": [
       "[{'name': 'Cerberus Hemisphere Enhanced',\n",
       "  'jpeg': 'https://astropedia.astrogeology.usgs.gov/download/Mars/Viking/cerberus_enhanced.tif/full.jpg'},\n",
       " {'name': 'Schiaparelli Hemisphere Enhanced',\n",
       "  'jpeg': 'https://astropedia.astrogeology.usgs.gov/download/Mars/Viking/schiaparelli_enhanced.tif/full.jpg'},\n",
       " {'name': 'Syrtis Major Hemisphere Enhanced',\n",
       "  'jpeg': 'https://astropedia.astrogeology.usgs.gov/download/Mars/Viking/syrtis_major_enhanced.tif/full.jpg'},\n",
       " {'name': 'Valles Marineris Hemisphere Enhanced',\n",
       "  'jpeg': 'https://astropedia.astrogeology.usgs.gov/download/Mars/Viking/valles_marineris_enhanced.tif/full.jpg'}]"
      ]
     },
     "execution_count": 17,
     "metadata": {},
     "output_type": "execute_result"
    }
   ],
   "source": [
    "d=dict()\n",
    "l=list()\n",
    "for i in range(len(hem_names)):\n",
    "    d['name'], d['jpeg'] = hem_names[i], hem_jpegs[i]\n",
    "    l.append(d.copy())\n",
    "    \n",
    "l"
   ]
  },
  {
   "cell_type": "code",
   "execution_count": null,
   "id": "7a3a8360",
   "metadata": {},
   "outputs": [],
   "source": []
  },
  {
   "cell_type": "code",
   "execution_count": null,
   "id": "56631b5f",
   "metadata": {},
   "outputs": [],
   "source": []
  }
 ],
 "metadata": {
  "kernelspec": {
   "display_name": "Python 3",
   "language": "python",
   "name": "python3"
  },
  "language_info": {
   "codemirror_mode": {
    "name": "ipython",
    "version": 3
   },
   "file_extension": ".py",
   "mimetype": "text/x-python",
   "name": "python",
   "nbconvert_exporter": "python",
   "pygments_lexer": "ipython3",
   "version": "3.8.8"
  }
 },
 "nbformat": 4,
 "nbformat_minor": 5
}
